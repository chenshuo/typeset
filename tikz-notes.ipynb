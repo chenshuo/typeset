{
 "cells": [
  {
   "cell_type": "markdown",
   "id": "94af752c-b3b3-49b9-9bdf-4b1d1bbcd07f",
   "metadata": {},
   "source": [
    "# TikZ 绘制中学几何题\n",
    "\n",
    "chenshuo@chenshuo.com\n",
    "\n",
    "最新版： https://github.com/chenshuo/typeset/\n",
    "\n",
    "TikZ 有专门的 `tkz-euclide` 宏包，例子可参考 https://github.com/jamesfang8499/math2/\n",
    "\n",
    "这里用基础的 TikZ 语法来绘制中学几何习题，满足基本的个人需求。\n",
    "\n",
    "https://github.com/mkrphys/ipython-tikzmagic.git"
   ]
  },
  {
   "cell_type": "code",
   "execution_count": 1,
   "id": "f4dee69a-c492-4fe9-952c-c1848b49c2ea",
   "metadata": {},
   "outputs": [],
   "source": [
    "# !pip install git+git://github.com/chenshuo/ipython-tikzmagic.git\n",
    "\n",
    "%load_ext tikzmagic"
   ]
  },
  {
   "cell_type": "markdown",
   "id": "e5f95800-f450-49c6-9447-60118e94a4dc",
   "metadata": {},
   "source": [
    "## 基础语法"
   ]
  },
  {
   "cell_type": "markdown",
   "id": "a27dc6c4-2c30-4a2e-bb24-cb537be6978a",
   "metadata": {},
   "source": [
    "https://tikz.dev/tikz-coordinates"
   ]
  },
  {
   "cell_type": "markdown",
   "id": "b299b5e9-abb8-4621-a664-5d1b48fde4f9",
   "metadata": {},
   "source": [
    "### 直角坐标\n",
    "\n",
    "(x, y)"
   ]
  },
  {
   "cell_type": "markdown",
   "id": "cbafbee5-3e30-43a4-85be-c506652c9317",
   "metadata": {},
   "source": [
    "3-4-5 直角三角形 right triangle"
   ]
  },
  {
   "cell_type": "code",
   "execution_count": 24,
   "id": "7689d40e-f9c0-44e8-9d1e-d2104466e6c2",
   "metadata": {},
   "outputs": [
    {
     "data": {
      "image/png": "[encoded data removed]"
     },
     "metadata": {},
     "output_type": "display_data"
    }
   ],
   "source": [
    "%%tikz\n",
    "\n",
    "\\draw (0, 3) -- (0, 0) -- (4, 0) -- cycle;"
   ]
  },
  {
   "cell_type": "code",
   "execution_count": 4,
   "id": "81e911d0-71e9-4018-a306-8a63e4b1ce9d",
   "metadata": {},
   "outputs": [
    {
     "data": {
      "image/png": "[encoded data removed]"
     },
     "metadata": {},
     "output_type": "display_data"
    }
   ],
   "source": [
    "%%tikz\n",
    "\n",
    "\\draw (0, 3) node [above] {$A$} -- (0, 0) node [below] {$B$} -- (4, 0) node [below] {$C$}  -- cycle;"
   ]
  },
  {
   "cell_type": "markdown",
   "id": "c6671807-8a8f-4bca-8391-ed6c51a36e96",
   "metadata": {},
   "source": [
    "等腰三角形 isosceles triangle"
   ]
  },
  {
   "cell_type": "code",
   "execution_count": 32,
   "id": "2bc005a2-2b79-4ed7-9099-85d16630ea09",
   "metadata": {},
   "outputs": [
    {
     "data": {
      "image/png": "[encoded data removed]"
     },
     "metadata": {},
     "output_type": "display_data"
    }
   ],
   "source": [
    "%%tikz -l angles,quotes\n",
    "\\draw (0, 0) coordinate (B) -- (1, 2.4) coordinate (A) node [midway] {=} node [above] {(1, 2.4)}\n",
    "  -- (2, 0) coordinate (C) node [midway] {=} -- cycle;\n",
    "\\draw pic [draw,\"$\\alpha$\"] {angle=C--B--A};\n",
    "\\draw pic [draw,\"$\\alpha$\"] {angle=A--C--B};"
   ]
  },
  {
   "cell_type": "markdown",
   "id": "8f1aff6f-3cc6-49f1-a0b7-f0d3a363a8a1",
   "metadata": {},
   "source": [
    "### 极坐标\n",
    "\n",
    "(angle:radius)"
   ]
  },
  {
   "cell_type": "markdown",
   "id": "896b3258-d6a9-4051-ba81-b822e49f35c5",
   "metadata": {},
   "source": [
    "正三角形 equilateral triangle"
   ]
  },
  {
   "cell_type": "code",
   "execution_count": 31,
   "id": "70531d81-53e0-4fd9-a371-e4e0f66e2449",
   "metadata": {},
   "outputs": [
    {
     "data": {
      "image/png": "[encoded data removed]"
     },
     "metadata": {},
     "output_type": "display_data"
    }
   ],
   "source": [
    "%%tikz\n",
    "\n",
    "\\draw (0, 0) -- (60:2) node [above] {(60:2)} -- (2, 0) -- cycle;"
   ]
  },
  {
   "cell_type": "markdown",
   "id": "c3c4ca31-46cf-453b-b821-3e27483ef720",
   "metadata": {},
   "source": [
    "斜边处于水平位置的直角三角形"
   ]
  },
  {
   "cell_type": "code",
   "execution_count": 30,
   "id": "4eb8284c-1478-4e35-a47e-4e5c31a42982",
   "metadata": {},
   "outputs": [
    {
     "data": {
      "image/png": "[encoded data removed]"
     },
     "metadata": {},
     "output_type": "display_data"
    }
   ],
   "source": [
    "%%tikz -l angles\n",
    "\n",
    "\\draw (-2, 0) coordinate (A) -- (60:2) coordinate (C) -- (2, 0) coordinate (B) -- cycle;\n",
    "\\draw pic [draw,angle radius=3mm] {right angle=A--C--B};"
   ]
  },
  {
   "cell_type": "markdown",
   "id": "a886b73a-26be-4fa4-b249-8c8671084c90",
   "metadata": {},
   "source": []
  },
  {
   "cell_type": "markdown",
   "id": "34b171a9-2c7e-41d3-b344-7e833fdfb1a4",
   "metadata": {},
   "source": [
    "### 中点及延长线\n",
    "\n",
    "https://tikz.dev/tikz-coordinates#sec-13.5.3\n",
    "\n",
    "AB 中点 `($(A)!0.5!(B)$)`"
   ]
  },
  {
   "cell_type": "code",
   "execution_count": 29,
   "id": "f7d19eb4-1e21-4c32-b914-03ecb305e595",
   "metadata": {},
   "outputs": [
    {
     "data": {
      "image/png": "[encoded data removed]"
     },
     "metadata": {},
     "output_type": "display_data"
    }
   ],
   "source": [
    "%%tikz -l calc\n",
    "\n",
    "\\draw (0, 0) coordinate (A) -- (3, 2) coordinate (B) |- (A) coordinate [midway] (C);\n",
    "\\draw [dashed] (C) -- ($(A)!0.5!(B)$);"
   ]
  },
  {
   "cell_type": "code",
   "execution_count": null,
   "id": "ef3d6331-7f0a-490d-abae-f1e3502a70cd",
   "metadata": {},
   "outputs": [],
   "source": []
  },
  {
   "cell_type": "markdown",
   "id": "49761f23-1a40-4806-8f09-00b004c007e2",
   "metadata": {},
   "source": [
    "AB 延长线 `($(A)!2.0!(B)$)`\n",
    "\n",
    "AB 反向延长线 `($(A)!-1!(B)$)`"
   ]
  },
  {
   "cell_type": "code",
   "execution_count": null,
   "id": "bcea60ea-e34b-4bc2-b7ca-8957703db7c6",
   "metadata": {},
   "outputs": [],
   "source": []
  },
  {
   "cell_type": "markdown",
   "id": "14b6a9b5-a4e1-4c6a-bb10-d59127bf66ae",
   "metadata": {},
   "source": [
    "### 距离\n",
    "\n",
    "从 A 到 B 距离 A 点 1cm：`($(A)!1cm!(B)$)`\n",
    "\n",
    "https://tikz.dev/tikz-coordinates#sec-13.5.4"
   ]
  },
  {
   "cell_type": "code",
   "execution_count": 39,
   "id": "c9d83af8-5108-47ce-ac22-be22572655e5",
   "metadata": {},
   "outputs": [
    {
     "data": {
      "image/png": "[encoded data removed]"
     },
     "metadata": {},
     "output_type": "display_data"
    }
   ],
   "source": [
    "%%tikz -l calc,angles\n",
    "\n",
    "% 角平分线 angle bisector\n",
    "% https://math.stackexchange.com/questions/2032931/bisectrix-of-a-triangle-in-tikz\n",
    "\n",
    "\\draw (0, 0) coordinate (A) node [below] {$A$} -- (2, 0) coordinate (B) node [below] {$B$};\n",
    "\\draw (A) -- (1.8, 1.5) coordinate (C) node [right] {$C$};\n",
    "\\draw [blue] let\n",
    "    \\p1=($(A)!2cm!(B)$),\n",
    "    \\p2=($(A)!2cm!(C)$),\n",
    "    \\p3=($(\\p1)!0.5!(\\p2)$)\n",
    "  in (A) -- (\\p3) coordinate (D) node [right] {$D$};\n",
    "\\draw pic [draw] {angle=B--A--D};\n",
    "\\draw pic [draw, angle radius=6mm,double] {angle=D--A--C};"
   ]
  },
  {
   "cell_type": "markdown",
   "id": "860b1d99-7e15-4d74-9942-0aa37d3dd8a1",
   "metadata": {},
   "source": [
    "### 偏转角\n",
    "\n",
    "`($(A)!0.5!90:(B)$)` 从 A 点出发，向 B 顺时针偏转 90 度的方向，前进 0.5 倍 AB 距离。"
   ]
  },
  {
   "cell_type": "code",
   "execution_count": 3,
   "id": "17d124b9-2288-47b1-936d-2f85289fb7a4",
   "metadata": {},
   "outputs": [
    {
     "data": {
      "image/png": "[encoded data removed]"
     },
     "metadata": {},
     "output_type": "display_data"
    }
   ],
   "source": [
    "%%tikz -l calc,angles\n",
    "\n",
    "% 垂直平分线 perpendicular bisector\n",
    "\n",
    "\\draw (0, 0) coordinate (A) -- (3, 2) coordinate (B);\n",
    "\\fill ($(A)!0.5!(B)$) coordinate (C) circle (1pt);\n",
    "\\draw [dashed] ($(C)!0.6!90:(A)$) coordinate (D)\n",
    "  -- ($(D)!2.2!(C)$);"
   ]
  },
  {
   "cell_type": "markdown",
   "id": "3ecefb34-fd2c-40c5-850a-51874e686acb",
   "metadata": {},
   "source": [
    "从 A 点出发，向 B 顺时针偏转 90 度的方向，前进 1cm：`($(A)!1cm!90:(B)$)`"
   ]
  },
  {
   "cell_type": "code",
   "execution_count": 43,
   "id": "1f2f13de-db75-482d-bed7-9488be7ff008",
   "metadata": {},
   "outputs": [
    {
     "data": {
      "image/png": "[encoded data removed]"
     },
     "metadata": {},
     "output_type": "display_data"
    }
   ],
   "source": [
    "%%tikz -l calc,angles\n",
    "\\draw (0, 0) coordinate (A)\n",
    "-- (55:1.2) coordinate (B) node [midway,right] {3}\n",
    "-- ($(B)!1.6cm!90:(A)$) coordinate (C) node [midway,below] {4}\n",
    "-- ($(C)!2cm!-90:(B)$) coordinate (D) node [midway,right] {5}\n",
    "-| (A) coordinate [midway] (E);\n",
    "\n",
    "\\draw ($(A)!0.5!(E)$) node [left] {4} ($(D)!0.5!(E)$) node [above] {$x=?$};\n",
    "\\draw pic [draw,angle radius=3mm] {right angle=A--B--C};\n",
    "\\draw pic [draw,angle radius=3mm] {right angle=B--C--D};\n",
    "\\draw pic [draw,angle radius=3mm] {right angle=A--E--D};"
   ]
  },
  {
   "cell_type": "markdown",
   "id": "83a331fb-41e1-4156-ad2a-1ae25647e941",
   "metadata": {},
   "source": [
    "### 垂线\n",
    "\n",
    "`($(A)!(P)!(B)$)`"
   ]
  },
  {
   "cell_type": "markdown",
   "id": "d72bca85-1a3e-47b6-8dda-766d5e2f63e2",
   "metadata": {},
   "source": [
    "Altitude lengths are 210, 170, 357. What is the perimeter?"
   ]
  },
  {
   "cell_type": "code",
   "execution_count": 4,
   "id": "02fd0f54-55cd-422f-9db4-4c8a0b663322",
   "metadata": {},
   "outputs": [
    {
     "data": {
      "image/png": "[encoded data removed]"
     },
     "metadata": {},
     "output_type": "display_data"
    }
   ],
   "source": [
    "%%tikz -l calc\n",
    "\n",
    "\\draw [thick] (0, 0) coordinate (B) node [below] {$B$} -- (4, 0) coordinate (C) node [below] {$C$}\n",
    "  -- (1.6, 2.3) coordinate (A)  node [above] {$A$} --cycle;\n",
    "\\draw [blue] (A) -- ($(B)!(A)!(C)$) coordinate (D) node [below] {$D$} node [near end,left=-2pt] {170}\n",
    "  (B) -- ($(A)!(B)!(C)$) coordinate (E) node [right] {$E$} node [midway, above left] {210}\n",
    "  (C) -- ($(A)!(C)!(B)$) coordinate (F) node [left] {$F$} node [midway, left=3pt] {357};"
   ]
  },
  {
   "cell_type": "markdown",
   "id": "e3368435-7992-4c56-bba9-0be9d4cdbae9",
   "metadata": {},
   "source": [
    "### 直线的交点"
   ]
  },
  {
   "cell_type": "code",
   "execution_count": 31,
   "id": "3f8a586e-f835-48b1-9af1-92c99e59547b",
   "metadata": {},
   "outputs": [
    {
     "data": {
      "image/png": "[encoded data removed]"
     },
     "metadata": {},
     "output_type": "display_data"
    }
   ],
   "source": [
    "%%tikz -l calc,angles\n",
    "\n",
    "\\draw (0, 0) coordinate (A) node [below] {$A$} -- (2.5, 0) coordinate (B) node [below] {$B$} \n",
    "-- (2.5, 2.2) coordinate (C) node [above] {$C$} -- cycle;\n",
    "\\draw [blue] let\n",
    "    \\p1=($(A)!1cm!(B)$),\n",
    "    \\p2=($(A)!1cm!(C)$),\n",
    "    \\p3=($(\\p1)+(\\p2)-(A)$)\n",
    "  in (A) -- (intersection of A--\\p3 and B--C) coordinate (D) node [right] {$D$};\n",
    "\\draw pic [draw, angle radius=6mm] {angle=B--A--D};\n",
    "\\draw pic [draw, angle radius=7mm,double] {angle=D--A--C};\n"
   ]
  },
  {
   "cell_type": "markdown",
   "id": "d3dbb897-7834-4a77-b775-6a80085e2eb4",
   "metadata": {},
   "source": [
    "### 圆、扇型、圆弧"
   ]
  },
  {
   "cell_type": "code",
   "execution_count": 28,
   "id": "a0b47732-d4bf-4be3-8b59-a584bfa4428e",
   "metadata": {},
   "outputs": [
    {
     "data": {
      "image/png": "[encoded data removed]"
     },
     "metadata": {},
     "output_type": "display_data"
    }
   ],
   "source": [
    "%%tikz\n",
    "\n",
    "\\draw (0, 1) circle (1);\n",
    "\\draw (2, 0) arc (0:180:2) -- cycle;"
   ]
  },
  {
   "cell_type": "code",
   "execution_count": 27,
   "id": "c7a969bb-e089-457d-9ecf-906512ea3884",
   "metadata": {},
   "outputs": [
    {
     "data": {
      "image/png": "[encoded data removed]"
     },
     "metadata": {},
     "output_type": "display_data"
    }
   ],
   "source": [
    "%%tikz\n",
    "\n",
    "\\draw (2, 0) coordinate (B) arc (0:90:2) |- (B);"
   ]
  },
  {
   "cell_type": "markdown",
   "id": "39527321-b2b3-4a38-8e71-8f429b16bcc1",
   "metadata": {},
   "source": [
    "### 曲线交点"
   ]
  },
  {
   "cell_type": "code",
   "execution_count": 26,
   "id": "01a21da3-e582-4fe4-a8d0-e2b50813162b",
   "metadata": {},
   "outputs": [
    {
     "data": {
      "image/png": "[encoded data removed]"
     },
     "metadata": {},
     "output_type": "display_data"
    }
   ],
   "source": [
    "%%tikz -l angles,intersections,quotes\n",
    "\n",
    "\\draw [name path=semi] (2, 0) coordinate (B) arc (0:180:2) coordinate (A) -- cycle;\n",
    "\\path [name path=line1] (-0.5, 0) coordinate (C) -- ++(60:2.3);\n",
    "\\path [name path=line2] (C) -- ++(120:2);\n",
    "\\draw [name intersections={of=semi and line1, by=E}] (C) -- (E);\n",
    "\\draw [name intersections={of=semi and line2, by=D}] (C) -- (D);\n",
    "\\draw [red] (D) -- (E) node [midway,below] {3};\n",
    "\\draw pic [draw, \"$\\alpha$\"] {angle=B--C--E};\n",
    "\\draw pic [draw, \"$\\alpha$\"] {angle=D--C--A};\n",
    "\\draw (1, 0) node [above] {$\\alpha=60^\\circ$} node [below] {$r=?$};"
   ]
  },
  {
   "cell_type": "markdown",
   "id": "1049fe6e-ebb8-44ee-a965-d7ecd9b5fc86",
   "metadata": {},
   "source": [
    "## 例题"
   ]
  },
  {
   "cell_type": "markdown",
   "id": "dd76483a-47a7-43a2-8cb5-8e52511a15e6",
   "metadata": {},
   "source": [
    "$EF \\perp CD$, $|EF|=|DF|=|CF|$"
   ]
  },
  {
   "cell_type": "code",
   "execution_count": 13,
   "id": "17b7d3f8-c82f-4b2c-85d7-835d1624e31a",
   "metadata": {},
   "outputs": [
    {
     "data": {
      "image/png": "[encoded data removed]"
     },
     "metadata": {},
     "output_type": "display_data"
    }
   ],
   "source": [
    "%%tikz -l math,calc,angles\n",
    "\n",
    "\\draw (2, 0) coordinate (C) node [right] {$C$} -- (0, 0) node [left] {$B$}\n",
    "  -- (0, 3.5) node [left] {$A$} -- (1.5, 3.5) node [right] {$D$} -- cycle\n",
    "node [near start] {/} node [near end] {/}\n",
    "coordinate [midway] (F);\n",
    "\n",
    "\\draw (0, 1.5) coordinate (E) node [left] {$E$}\n",
    "  -- (F) node [right] {$F$} node [midway] {/} node [midway,below] {$x=?$};\n",
    "\\draw pic [draw,angle radius=3mm] {right angle=C--F--E};\n",
    "\\draw (0, 0.7) node [left] {6};\n",
    "\\draw (0, 2.5) node [left] {8};"
   ]
  },
  {
   "cell_type": "code",
   "execution_count": 15,
   "id": "4b58c195-fd34-4518-8cb5-590cadcb798f",
   "metadata": {},
   "outputs": [
    {
     "data": {
      "image/png": "[encoded data removed]"
     },
     "metadata": {},
     "output_type": "display_data"
    }
   ],
   "source": [
    "%%tikz -l calc,math,angles\n",
    "\n",
    "\\draw (0, 0) coordinate (O) -- (2, 0) coordinate (D) arc (0:90:2) coordinate (A) -- cycle;\n",
    "\\draw (A) -- (50:2) coordinate (B) node [midway, below] {24};\n",
    "\\draw ($(B)!1cm!90:(A)$) coordinate (B1);\n",
    "\\draw (D) -- ($(B1)!(D)!(B)$) coordinate (C) -- (B) node [midway,left] {23};\n",
    "\\draw pic [draw,angle radius=3mm] {right angle=A--B--C};\n",
    "\\draw pic [draw,angle radius=3mm] {right angle=D--C--B};\n",
    "\\draw (1, 0) node [below] {$r=?$};\n"
   ]
  },
  {
   "cell_type": "code",
   "execution_count": 8,
   "id": "02fc7e4e-60aa-41f6-99c4-6cc5ece4bb16",
   "metadata": {},
   "outputs": [
    {
     "data": {
      "image/png": "[encoded data removed]"
     },
     "metadata": {},
     "output_type": "display_data"
    }
   ],
   "source": [
    "%%tikz -l angles,calc\n",
    "\n",
    "\\coordinate (O) at (0, 0);\n",
    "\\coordinate (T) at (0, 2);\n",
    "\\draw (-2, 0) coordinate (A) arc (180:90:2) |- (A);\n",
    "\\draw (110:2) coordinate (B) -- (A) node [midway,right] {24};\n",
    "\\draw ($(B)!1cm!90:(A)$) coordinate (B2)\n",
    "  (B) -- (intersection of B--B2 and O--T) coordinate (C) node [midway,below] {7};\n",
    "\\draw pic [draw, angle radius=3mm] {right angle=C--B--A};\n",
    "\\draw [thick,blue] (O) -- (C) node [midway, right] {$x=\\;?$};"
   ]
  },
  {
   "cell_type": "code",
   "execution_count": 35,
   "id": "ed032065-0b30-4f4e-984b-426e21e76f41",
   "metadata": {},
   "outputs": [
    {
     "data": {
      "image/png": "[encoded data removed]"
     },
     "metadata": {},
     "output_type": "display_data"
    }
   ],
   "source": [
    "%%tikz -l calc,angles,intersections\n",
    "\n",
    "\\draw [name path=quarter] (0, 0) -- (2, 0) coordinate (C) node [midway,below] {$r=10$} arc (0:90:2) -- cycle;\n",
    "\\draw (0, 0.5) node {=} (0, 1.5) node {=};\n",
    "\\coordinate (A) at (0, 1);\n",
    "\\coordinate (D) at (-2, 0);\n",
    "\\path [name path=line1] (A) -- ($(A)!-1!(D)$);\n",
    "\\path [name intersections={of=line1 and quarter, by=B}];\n",
    "\\draw (A) -- (B) -- (C) node [midway,left] {$x$} -- cycle;\n",
    "\\draw pic [draw,angle radius=3mm] {right angle=A--B--C};"
   ]
  },
  {
   "cell_type": "code",
   "execution_count": 36,
   "id": "68dfce16-7d77-4d46-b231-8f64a430ace4",
   "metadata": {},
   "outputs": [
    {
     "data": {
      "image/png": "[encoded data removed]"
     },
     "metadata": {},
     "output_type": "display_data"
    }
   ],
   "source": [
    "%%tikz -l math,calc,angles,quotes\n",
    "\n",
    "\\tikzmath{\\a=atan(3/4);}\n",
    "\n",
    "\\draw (0, 0) coordinate (A) -- (5, 0) coordinate (B);\n",
    "\\draw (A) -- (\\a:4) coordinate (E) node [midway,above] {4} -- (B)  node [midway,right] {3};\n",
    "\\draw (E) -- ($(B)!4/3!(E)$) coordinate (C) node [midway,right] {1};\n",
    "\\draw (C) ++(-1, 0)coordinate (C1);\n",
    "\\coordinate (D1) at (2*\\a:1);\n",
    "\\draw (C) -- (intersection of C--C1 and A--D1) coordinate (D) -- (A);\n",
    "\\draw pic [draw] {right angle=A--E--B}\n",
    "  pic [draw,\"$\\alpha$\", angle radius=6mm] {angle=B--A--E}\n",
    "  pic [draw,\"$\\alpha$\", angle radius=7mm,double] {angle=E--A--D};"
   ]
  },
  {
   "cell_type": "code",
   "execution_count": 25,
   "id": "f5325ad7-c84c-40f4-878f-25ff76925092",
   "metadata": {},
   "outputs": [
    {
     "data": {
      "image/png": "[encoded data removed]"
     },
     "metadata": {},
     "output_type": "display_data"
    }
   ],
   "source": [
    "%%tikz -l calc,math,angles,through,quotes\n",
    "\n",
    "\\tikzset{\n",
    "  angle bisector/.style n args={4}{\n",
    "    insert path={\n",
    "        let \\p1 = ($(#2)!1cm!(#1)$),\n",
    "        \\p2 = ($(#2)!1cm!(#3)$),\n",
    "        \\p3 = ($(\\p1)+(\\p2)-(#2)$) in\n",
    "        (intersection of #1--#3 and #2--\\p3) coordinate (#4)\n",
    "    }   \n",
    "  }\n",
    "}\n",
    "\n",
    "\\tikzmath{\\r=2.5;};\n",
    "\\draw (\\r, 0) coordinate (B) arc (0:180:2.5) coordinate (A) -- cycle;\n",
    "\\draw (A) -- (70:2.5) coordinate (C) -- (B)  ;\n",
    "\\draw [angle bisector={A}{B}{C}{B1}];\n",
    "\\draw [angle bisector={B}{A}{C}{A1}];\n",
    "\\coordinate (O) at (intersection of B--B1 and A--A1);\n",
    "\\draw ($(A)!(O)!(C)$) coordinate (E) node [above left] {$E$}\n",
    "  -- ($(B)!(O)!(C)$) coordinate (F) node [right] {$F$};\n",
    "\\node [draw] at (O) [circle through={(E)}] {}; \n",
    "\\draw (E) -- ($(A)!(O)!(B)$) coordinate (D) -- (F);\n",
    "\\draw pic [draw,\"?\"] {angle=F--D--E};"
   ]
  }
 ],
 "metadata": {
  "kernelspec": {
   "display_name": "Python 3 (ipykernel)",
   "language": "python",
   "name": "python3"
  },
  "language_info": {
   "codemirror_mode": {
    "name": "ipython",
    "version": 3
   },
   "file_extension": ".py",
   "mimetype": "text/x-python",
   "name": "python",
   "nbconvert_exporter": "python",
   "pygments_lexer": "ipython3",
   "version": "3.11.9"
  }
 },
 "nbformat": 4,
 "nbformat_minor": 5
}
